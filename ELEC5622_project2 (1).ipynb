{
  "cells": [
    {
      "cell_type": "code",
      "source": [
        "from google.colab import drive\n",
        "drive.mount('/content/drive')"
      ],
      "metadata": {
        "colab": {
          "base_uri": "https://localhost:8080/"
        },
        "id": "PVchtfdFYzqL",
        "outputId": "5a4635c2-4bd3-4cd1-964c-f734346931ec"
      },
      "id": "PVchtfdFYzqL",
      "execution_count": 1,
      "outputs": [
        {
          "output_type": "stream",
          "name": "stdout",
          "text": [
            "Mounted at /content/drive\n"
          ]
        }
      ]
    },
    {
      "cell_type": "code",
      "source": [
        "import os\n",
        "path = \"/content/drive/MyDrive/ColabNotebooks/5622/p2\"\n",
        "\n",
        "os.chdir(path)\n",
        "os.listdir(path)"
      ],
      "metadata": {
        "colab": {
          "base_uri": "https://localhost:8080/"
        },
        "id": "1SdZKcNgiqU-",
        "outputId": "d0ccab35-682b-44c1-bd5d-e164f49b0419"
      },
      "id": "1SdZKcNgiqU-",
      "execution_count": 2,
      "outputs": [
        {
          "output_type": "execute_result",
          "data": {
            "text/plain": [
              "['training',\n",
              " 'validation',\n",
              " 'validation.zip',\n",
              " 'test.zip',\n",
              " 'training.zip',\n",
              " 'gt_training.csv',\n",
              " 'test',\n",
              " 'gt_training_new.csv']"
            ]
          },
          "metadata": {},
          "execution_count": 2
        }
      ]
    },
    {
      "cell_type": "code",
      "source": [
        "!unzip '/content/drive/MyDrive/ColabNotebooks/5622/p2/test.zip' -d '/content/drive/MyDrive/ColabNotebooks/5622/p2'\n",
        "!unzip '/content/drive/MyDrive/ColabNotebooks/5622/p2/training.zip' -d '/content/drive/MyDrive/ColabNotebooks/5622/p2'\n",
        "!unzip '/content/drive/MyDrive/ColabNotebooks/5622/p2/validation.zip' -d '/content/drive/MyDrive/ColabNotebooks/5622/p2'"
      ],
      "metadata": {
        "id": "yTI1y6oEm3_N",
        "colab": {
          "base_uri": "https://localhost:8080/"
        },
        "outputId": "ab77f010-8a46-47df-ba5d-70831d9b24cf"
      },
      "id": "yTI1y6oEm3_N",
      "execution_count": null,
      "outputs": [
        {
          "output_type": "stream",
          "name": "stdout",
          "text": [
            "Archive:  /content/drive/MyDrive/ColabNotebooks/5622/p2/test.zip\n",
            "replace /content/drive/MyDrive/ColabNotebooks/5622/p2/test/00003.png? [y]es, [n]o, [A]ll, [N]one, [r]ename: Archive:  /content/drive/MyDrive/ColabNotebooks/5622/p2/training.zip\n",
            "Archive:  /content/drive/MyDrive/ColabNotebooks/5622/p2/validation.zip\n"
          ]
        }
      ]
    },
    {
      "cell_type": "code",
      "source": [
        "import pandas as pd\n",
        "from torch.utils.data import DataLoader\n",
        "import torchvision\n",
        "import csv\n",
        "import PIL\n",
        "import torchvision.transforms as transforms\n",
        "\n",
        "with open('/content/drive/MyDrive/ColabNotebooks/5622/p2/gt_training.csv', mode='r') as infile:\n",
        "    heading = next(infile)\n",
        "    reader = csv.reader(infile)\n",
        "    label = dict({'Homogeneous': 0, 'Speckled': 1, 'Nucleolar': 2, 'Centromere': 3, 'NuMem': 4, 'Golgi': 5})\n",
        "    with open('gt_training_new.csv', mode='w') as outfile:\n",
        "        writer = csv.writer(outfile)\n",
        "        mydict = dict((rows[0], label[rows[1]]) for rows in reader)\n",
        "\n"
      ],
      "metadata": {
        "id": "mW2lLpegm4Nb"
      },
      "id": "mW2lLpegm4Nb",
      "execution_count": 3,
      "outputs": []
    },
    {
      "cell_type": "code",
      "source": [
        "import re\n",
        "import torch\n",
        "from PIL import Image\n",
        "import torchvision.transforms as transforms\n",
        "\n",
        "\n",
        "training_set = []\n",
        "validation_set = []\n",
        "test_set = []\n",
        "\n",
        "\n",
        "validationPath = r'/content/drive/MyDrive/ColabNotebooks/5622/p2/validation'\n",
        "trainingPath = r'/content/drive/MyDrive/ColabNotebooks/5622/p2/training'\n",
        "testPath = r'/content/drive/MyDrive/ColabNotebooks/5622/p2/test'\n",
        "\n",
        "\n",
        "for filename in os.listdir(validationPath):\n",
        "  image = Image.open(validationPath + '/' + filename).convert('RGB')\n",
        "  transform = transforms.Compose([\n",
        "      transforms.ToTensor(),\n",
        "      transforms.Resize((224, 224)), \n",
        "      \n",
        "      ])\n",
        "  img_tensor = transform(image)\n",
        "  input = []\n",
        "  input.extend((img_tensor, mydict[(str(int(''.join(filter(str.isdigit, filename)))))]))\n",
        "  validation_set.append(input)\n",
        "\n",
        "for filename in os.listdir(trainingPath):\n",
        "  image = Image.open(trainingPath + '/' +filename).convert('RGB')\n",
        "  transform = transforms.Compose([\n",
        "      transforms.ToTensor(),\n",
        "      transforms.Resize((224, 224))\n",
        "      \n",
        "      ])\n",
        "  img_tensor = transform(image)\n",
        "  input = []\n",
        "  input.extend((img_tensor, mydict[(str(int(''.join(filter(str.isdigit, filename)))))]))\n",
        "  training_set.append(input)\n",
        "\n",
        "for filename in os.listdir(testPath):\n",
        "  image = Image.open(testPath + '/' + filename).convert('RGB')\n",
        "  transform = transforms.Compose([\n",
        "      transforms.ToTensor(),\n",
        "      transforms.Resize((224, 224))\n",
        "      \n",
        "      ])\n",
        "  img_tensor = transform(image)\n",
        "  input = []\n",
        "  input.extend((img_tensor, mydict[(str(int(''.join(filter(str.isdigit, filename)))))]))\n",
        "  test_set.append(input)\n",
        "\n",
        "\n"
      ],
      "metadata": {
        "id": "WKpSunlGuc1T"
      },
      "id": "WKpSunlGuc1T",
      "execution_count": 4,
      "outputs": []
    },
    {
      "cell_type": "code",
      "source": [
        "print(f'label of first image is: {training_set[0][1]}')\n",
        "print((training_set[0][0]).size())"
      ],
      "metadata": {
        "colab": {
          "base_uri": "https://localhost:8080/"
        },
        "id": "T_ycHemUvMBU",
        "outputId": "95417350-641a-4e5b-b5fa-cf3ffbdbdc7d"
      },
      "id": "T_ycHemUvMBU",
      "execution_count": 75,
      "outputs": [
        {
          "output_type": "stream",
          "name": "stdout",
          "text": [
            "label of first image is: 4\n",
            "torch.Size([3, 224, 224])\n"
          ]
        }
      ]
    },
    {
      "cell_type": "markdown",
      "source": [],
      "metadata": {
        "id": "lYn-mKrX4E3f"
      },
      "id": "lYn-mKrX4E3f"
    },
    {
      "cell_type": "code",
      "source": [
        "\n",
        "train_dataloader = DataLoader(training_set, batch_size=128, shuffle=True)\n",
        "test_dataloader = DataLoader(test_set, batch_size=128, shuffle=True)\n",
        "val_dataloader = DataLoader(validation_set, batch_size=128, shuffle=True)\n"
      ],
      "metadata": {
        "id": "vnEr9InAgEpk"
      },
      "id": "vnEr9InAgEpk",
      "execution_count": 19,
      "outputs": []
    },
    {
      "cell_type": "code",
      "source": [
        "from os import listdir\n",
        "import numpy as np\n",
        "import pandas as pd\n",
        "from PIL import Image\n",
        "import torch\n",
        "from torch.utils.data.sampler import SubsetRandomSampler\n",
        "from torch.utils.data import Dataset\n",
        "import torchvision.transforms as transforms\n",
        "from sklearn.model_selection import train_test_split\n",
        "import torch.nn\n",
        "import torchvision.models as models \n"
      ],
      "metadata": {
        "id": "5CKi5Tr-KhhI"
      },
      "id": "5CKi5Tr-KhhI",
      "execution_count": 52,
      "outputs": []
    },
    {
      "cell_type": "code",
      "source": [
        "alexnet = models.alexnet(pretrained=True)\n",
        "\n",
        "num_fc = alexnet.classifier[6].in_features\n",
        "alexnet.classifier[6] = torch.nn.Linear(in_features=num_fc, out_features=6)\n",
        "\n",
        "\n",
        "criterion = torch.nn.CrossEntropyLoss()\n",
        "optimizer = torch.optim.Adam(alexnet.parameters(), lr=0.0001)\n",
        "scheduler1 = torch.optim.lr_scheduler.MultiStepLR(optimizer, milestones = [7,13], gamma = 0.5)\n"
      ],
      "metadata": {
        "id": "nBhiRNgJKqkx"
      },
      "id": "nBhiRNgJKqkx",
      "execution_count": 53,
      "outputs": []
    },
    {
      "cell_type": "code",
      "source": [
        "def testset_precision(net, testset): \n",
        "    dl = DataLoader(testset, batch_size = 128) \n",
        "    total_count = 0 \n",
        "    total_correct = 0 \n",
        "    for data in dl: \n",
        "        inputs = data[0].cuda()  \n",
        "        targets = data[1].cuda()\n",
        "        outputs = net(inputs)    \n",
        "        predicted_labels = outputs.argmax(dim=1) \n",
        "        comparison = predicted_labels == targets  \n",
        "        total_count += predicted_labels.size(0)   \n",
        "        total_correct += comparison.sum()      \n",
        "        \n",
        "    return int(total_correct) / int(total_count)"
      ],
      "metadata": {
        "id": "uHsU6F2UyR_p"
      },
      "id": "uHsU6F2UyR_p",
      "execution_count": 26,
      "outputs": []
    },
    {
      "cell_type": "code",
      "source": [
        "\n",
        "\n",
        "my_train_loss = []\n",
        "my_test_acc = []\n",
        "my_val_loss = []\n",
        "my_val_acc = []\n",
        "net = alexnet.cuda()\n",
        "for epoch in range(20):  # loop over the dataset multiple times\n",
        "\n",
        "            \n",
        "    train_running_loss = 0.0\n",
        "    for i, data in enumerate(train_dataloader, 0):\n",
        "        # get the inputs\n",
        "        inputs, labels = data\n",
        "        inputs,labels = inputs.cuda(), labels.cuda()\n",
        "        # zero the parameter gradients\n",
        "        optimizer.zero_grad()\n",
        "\n",
        "        # forward + backward + optimize\n",
        "        outputs = net(inputs)\n",
        "        loss = criterion(outputs, labels)\n",
        "        loss.backward()\n",
        "        optimizer.step()\n",
        "        # print statistics\n",
        "        train_running_loss += loss.item()\n",
        "    scheduler1.step()\n",
        "    print('The train_loss of the %d epoch is: %.3f' %\n",
        "                    (epoch + 1, train_running_loss / len(train_dataloader)))\n",
        "    b = testset_precision(net, validation_set)\n",
        "    print(f'test set accuracy is: {b}')\n",
        "    my_train_loss.append(train_running_loss / len(train_dataloader))\n",
        "    my_test_acc.append(b)\n",
        "print('Finished Training')"
      ],
      "metadata": {
        "colab": {
          "base_uri": "https://localhost:8080/"
        },
        "id": "vKmATXMGybh0",
        "outputId": "9589f84e-a781-4d37-edc4-75955501a4a0"
      },
      "id": "vKmATXMGybh0",
      "execution_count": 54,
      "outputs": [
        {
          "output_type": "stream",
          "name": "stdout",
          "text": [
            "The train_loss of the 1 epoch is: 0.558\n",
            "test set accuracy is: 0.8951724137931034\n",
            "The train_loss of the 2 epoch is: 0.254\n",
            "test set accuracy is: 0.9305747126436782\n",
            "The train_loss of the 3 epoch is: 0.199\n",
            "test set accuracy is: 0.9098850574712644\n",
            "The train_loss of the 4 epoch is: 0.156\n",
            "test set accuracy is: 0.9356321839080459\n",
            "The train_loss of the 5 epoch is: 0.119\n",
            "test set accuracy is: 0.9397701149425287\n",
            "The train_loss of the 6 epoch is: 0.106\n",
            "test set accuracy is: 0.9429885057471264\n",
            "The train_loss of the 7 epoch is: 0.112\n",
            "test set accuracy is: 0.952183908045977\n",
            "The train_loss of the 8 epoch is: 0.052\n",
            "test set accuracy is: 0.9494252873563218\n",
            "The train_loss of the 9 epoch is: 0.037\n",
            "test set accuracy is: 0.9595402298850575\n",
            "The train_loss of the 10 epoch is: 0.031\n",
            "test set accuracy is: 0.9508045977011494\n",
            "The train_loss of the 11 epoch is: 0.031\n",
            "test set accuracy is: 0.9641379310344828\n",
            "The train_loss of the 12 epoch is: 0.023\n",
            "test set accuracy is: 0.9567816091954023\n",
            "The train_loss of the 13 epoch is: 0.020\n",
            "test set accuracy is: 0.9549425287356322\n",
            "The train_loss of the 14 epoch is: 0.014\n",
            "test set accuracy is: 0.9613793103448276\n",
            "The train_loss of the 15 epoch is: 0.011\n",
            "test set accuracy is: 0.9604597701149425\n",
            "The train_loss of the 16 epoch is: 0.010\n",
            "test set accuracy is: 0.9595402298850575\n",
            "The train_loss of the 17 epoch is: 0.008\n",
            "test set accuracy is: 0.960919540229885\n",
            "The train_loss of the 18 epoch is: 0.007\n",
            "test set accuracy is: 0.960919540229885\n",
            "The train_loss of the 19 epoch is: 0.006\n",
            "test set accuracy is: 0.967816091954023\n",
            "The train_loss of the 20 epoch is: 0.006\n",
            "test set accuracy is: 0.9650574712643678\n",
            "Finished Training\n"
          ]
        }
      ]
    },
    {
      "cell_type": "code",
      "source": [
        "b = testset_precision(net, validation_set)\n",
        "print(f'validation set accuracy is: {b}')\n",
        "\n",
        "import matplotlib.pyplot as plt\n",
        "plt.plot(my_train_loss,\"-\")\n",
        "\n",
        "plt.show()\n",
        "\n",
        "\n",
        "plt.plot(my_test_acc,\"-\")\n",
        "\n",
        "\n",
        "\n",
        "my_train_loss\n",
        "my_test_acc\n",
        "\n"
      ],
      "metadata": {
        "id": "kKyLdy6gFxvL",
        "colab": {
          "base_uri": "https://localhost:8080/",
          "height": 899
        },
        "outputId": "607fada4-ced1-4e2d-e854-5ecf484e6d39"
      },
      "id": "kKyLdy6gFxvL",
      "execution_count": 56,
      "outputs": [
        {
          "output_type": "stream",
          "name": "stdout",
          "text": [
            "validation set accuracy is: 0.9659770114942529\n"
          ]
        },
        {
          "output_type": "display_data",
          "data": {
            "text/plain": [
              "<Figure size 432x288 with 1 Axes>"
            ],
            "image/png": "[encoded data removed]"
          },
          "metadata": {
            "needs_background": "light"
          }
        },
        {
          "output_type": "execute_result",
          "data": {
            "text/plain": [
              "[0.8951724137931034,\n",
              " 0.9305747126436782,\n",
              " 0.9098850574712644,\n",
              " 0.9356321839080459,\n",
              " 0.9397701149425287,\n",
              " 0.9429885057471264,\n",
              " 0.952183908045977,\n",
              " 0.9494252873563218,\n",
              " 0.9595402298850575,\n",
              " 0.9508045977011494,\n",
              " 0.9641379310344828,\n",
              " 0.9567816091954023,\n",
              " 0.9549425287356322,\n",
              " 0.9613793103448276,\n",
              " 0.9604597701149425,\n",
              " 0.9595402298850575,\n",
              " 0.960919540229885,\n",
              " 0.960919540229885,\n",
              " 0.967816091954023,\n",
              " 0.9650574712643678]"
            ]
          },
          "metadata": {},
          "execution_count": 56
        },
        {
          "output_type": "display_data",
          "data": {
            "text/plain": [
              "<Figure size 432x288 with 1 Axes>"
            ],
            "image/png": "[encoded data removed]"
          },
          "metadata": {
            "needs_background": "light"
          }
        }
      ]
    }
  ],
  "metadata": {
    "colab": {
      "provenance": [],
      "collapsed_sections": [],
      "machine_shape": "hm"
    },
    "language_info": {
      "name": "python"
    },
    "kernelspec": {
      "name": "python3",
      "display_name": "Python 3"
    },
    "accelerator": "GPU",
    "gpuClass": "standard"
  },
  "nbformat": 4,
  "nbformat_minor": 5
}